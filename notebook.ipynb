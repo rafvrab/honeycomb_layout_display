{
 "cells": [
  {
   "cell_type": "markdown",
   "id": "4062bdcd-35fb-45a3-9111-5b1681cb9685",
   "metadata": {},
   "source": [
    "# Visualizing Honeycomb Patterns with Python and Matplotlib"
   ]
  },
  {
   "cell_type": "markdown",
   "id": "a83bdfaa-b026-4c3d-a3b8-70fdb68a2c6d",
   "metadata": {},
   "source": [
    "This Python script demonstrates how to create mesmerizing honeycomb patterns using the Matplotlib library. Honeycomb patterns are a common occurrence in nature, seen in the intricate hexagonal structures built by bees in their hives. Inspired by this natural phenomenon, our script generates visually appealing honeycomb displays composed of hexagons arranged in rows.\n",
    "\n",
    "The script allows for the customization of the honeycomb pattern, including the number of rows and the arrangement of hexagons within each row. By adjusting these parameters, users can create diverse honeycomb designs, ranging from traditional hexagonal grids to more intricate and asymmetrical patterns.\n",
    "\n",
    "With its simplicity and flexibility, this script serves as a fun and educational tool for exploring the beauty of honeycomb structures and experimenting with geometric patterns in Python."
   ]
  },
  {
   "cell_type": "code",
   "execution_count": 1,
   "id": "4a932420-c045-4972-bf5c-1b90cd8b916b",
   "metadata": {},
   "outputs": [],
   "source": [
    "import matplotlib.pyplot as plt\n",
    "import matplotlib.patches as mpatches\n",
    "import networkx as nx"
   ]
  },
  {
   "cell_type": "code",
   "execution_count": 2,
   "id": "f6b79bb8-4de8-4ee6-a691-72b5933d4e01",
   "metadata": {},
   "outputs": [
    {
     "data": {
      "image/png": "[encoded data removed]",
      "text/plain": [
       "<Figure size 640x480 with 1 Axes>"
      ]
     },
     "metadata": {},
     "output_type": "display_data"
    }
   ],
   "source": [
    "# Define number of rows\n",
    "num_rows = 11\n",
    "\n",
    "# Create figure and axis\n",
    "fig, ax = plt.subplots()\n",
    "\n",
    "# Loop through each row\n",
    "for i in range(num_rows):\n",
    "    # Calculate number of hexagons in the current row\n",
    "    if i < 6:\n",
    "        num_hex_row = 6 + i\n",
    "    else:\n",
    "        num_hex_row = 16 - i\n",
    "\n",
    "    # Calculate starting x-coordinate for the row\n",
    "    start_x = -0.5 * num_hex_row + 0.5\n",
    "\n",
    "    # Loop through each hexagon in the row\n",
    "    for j in range(num_hex_row):\n",
    "        # Calculate x and y coordinates for the hexagon center\n",
    "        x_center = start_x + j\n",
    "        y_center = i\n",
    "\n",
    "        # Create a blue hexagon object with adjusted size\n",
    "        hexagon = mpatches.RegularPolygon(\n",
    "            xy=(x_center, y_center), numVertices=6, radius=0.5, color='blue')\n",
    "\n",
    "        # Add hexagon to the plot\n",
    "        ax.add_artist(hexagon)\n",
    "\n",
    "# Set axes limits slightly higher than radius and offset\n",
    "ax.set_xlim([-6, 6])\n",
    "ax.set_ylim([-0.5, num_rows - 0.5])\n",
    "\n",
    "# Set axes\n",
    "ax.set_aspect('equal')\n",
    "\n",
    "# Hide axes\n",
    "ax.axis('off')\n",
    "\n",
    "plt.show()"
   ]
  },
  {
   "cell_type": "markdown",
   "id": "992915f2-dc7c-4a12-8797-0be2164fd694",
   "metadata": {},
   "source": [
    "The honeycomb layout display generated by this script serves as an engaging and intuitive visualization tool for data storytelling. Each hexagon within the honeycomb represents a certain data value, allowing viewers to quickly grasp the relative size or magnitude of the data being presented. By adjusting the number of rows and the arrangement of hexagons, users can create displays that effectively convey different scales of data. For instance, comparing a honeycomb layout with a larger number of rows to one with fewer rows provides a visual reference for understanding the relative magnitude of different data sets. This dynamic visualization technique enhances the storytelling process by offering an easily interpretable and visually compelling representation of complex data."
   ]
  },
  {
   "cell_type": "markdown",
   "id": "9cbef991-069d-461d-b6c3-2162d6569ac6",
   "metadata": {},
   "source": [
    "## Further experimentation"
   ]
  },
  {
   "cell_type": "markdown",
   "id": "a2ed7b25-7c72-425e-ac0b-3f6f14a7e743",
   "metadata": {},
   "source": [
    "We may yet play with further explorations. "
   ]
  },
  {
   "cell_type": "code",
   "execution_count": 13,
   "id": "aa54820b-761c-4151-aca1-93d85cc91c80",
   "metadata": {},
   "outputs": [
    {
     "name": "stdout",
     "output_type": "stream",
     "text": [
      "Array Number | Number of Rows | Total Hexagons\n",
      "------------ | -------------- | --------------\n",
      "   1 |              3 |              6\n",
      "   2 |              5 |             18\n",
      "   3 |              7 |             36\n",
      "   4 |              9 |             60\n",
      "   5 |             11 |             90\n",
      "   6 |             13 |            126\n",
      "   7 |             15 |            168\n",
      "   8 |             17 |            216\n",
      "   9 |             19 |            270\n",
      "  10 |             21 |            330\n",
      "  11 |             23 |            396\n",
      "  12 |             25 |            468\n",
      "  13 |             27 |            546\n",
      "  14 |             29 |            630\n",
      "  15 |             31 |            720\n"
     ]
    }
   ],
   "source": [
    "def calculate_array_details(array_number):\n",
    "  \"\"\"\n",
    "  Calculates the number of rows and total number of hexagons in an array given its array number.\n",
    "\n",
    "  Args:\n",
    "      array_number: The integer representing the array number.\n",
    "\n",
    "  Returns:\n",
    "      A tuple containing the number of rows and total number of hexagons.\n",
    "  \"\"\"\n",
    "\n",
    "  # Calculate number of rows\n",
    "  number_of_rows = 2 * array_number + 1\n",
    "\n",
    "  # Calculate total number of hexagons\n",
    "  total_hexagons = 3 * array_number**2 + 3 * array_number\n",
    "\n",
    "  return number_of_rows, total_hexagons\n",
    "\n",
    "# Print the table header\n",
    "print(\"Array Number | Number of Rows | Total Hexagons\")\n",
    "print(\"------------ | -------------- | --------------\")\n",
    "\n",
    "# Calculate and print details for arrays 1 to 15\n",
    "for i in range(1, 16):\n",
    "  rows, hexagons = calculate_array_details(i)\n",
    "  print(f\"{i:4d} | {rows:14d} | {hexagons:14d}\")"
   ]
  },
  {
   "cell_type": "code",
   "execution_count": 23,
   "id": "93dd4c11-16b6-4b49-b4b5-e5167c817718",
   "metadata": {},
   "outputs": [
    {
     "name": "stdout",
     "output_type": "stream",
     "text": [
      "Options:\n",
      "1. Calculate total hexagons based on number of rows\n",
      "2. Calculate number of rows based on total hexagons\n"
     ]
    },
    {
     "name": "stdin",
     "output_type": "stream",
     "text": [
      "Enter your option (1 or 2):  1\n",
      "Enter the number of rows:  11\n"
     ]
    },
    {
     "name": "stdout",
     "output_type": "stream",
     "text": [
      "Total hexagons: 146\n"
     ]
    }
   ],
   "source": [
    "def calculate_rows_and_hexagons(option):\n",
    "    if option == 1:\n",
    "        # Calculate total hexagons based on number of rows\n",
    "        num_rows = int(input(\"Enter the number of rows: \"))\n",
    "        total_hexagons = 0\n",
    "        for i in range(num_rows):\n",
    "            if i < num_rows // 2:\n",
    "                total_hexagons += num_rows + i\n",
    "            else:\n",
    "                total_hexagons += num_rows + num_rows - 1 - i\n",
    "        print(f\"Total hexagons: {total_hexagons}\")\n",
    "    elif option == 2:\n",
    "        # Calculate number of rows based on total hexagons\n",
    "        total_hexagons = int(input(\"Enter the total number of hexagons: \"))\n",
    "        num_rows = 0\n",
    "        while total_hexagons > 0:\n",
    "            num_rows += 1\n",
    "            if num_rows <= num_rows // 2:\n",
    "                total_hexagons -= num_rows * (num_rows + num_rows - 1)\n",
    "            else:\n",
    "                total_hexagons -= num_rows * (num_rows + num_rows - 1 - (num_rows // 2))\n",
    "        print(f\"Number of rows: {num_rows}\")\n",
    "    else:\n",
    "        print(\"Invalid option\")\n",
    "\n",
    "def main():\n",
    "    print(\"Options:\")\n",
    "    print(\"1. Calculate total hexagons based on number of rows\")\n",
    "    print(\"2. Calculate number of rows based on total hexagons\")\n",
    "    option = int(input(\"Enter your option (1 or 2): \"))\n",
    "    calculate_rows_and_hexagons(option)\n",
    "\n",
    "if __name__ == \"__main__\":\n",
    "    main()\n"
   ]
  },
  {
   "cell_type": "markdown",
   "id": "75b42495-0708-4b8b-b194-0c4bba5d5425",
   "metadata": {},
   "source": [
    "I didn't work the math correctly and keep getting the wrong results... this is a work in progress.  We'll come back to fix this..."
   ]
  },
  {
   "cell_type": "code",
   "execution_count": null,
   "id": "e963fc24-f5e4-47af-ba2b-c2724a083380",
   "metadata": {},
   "outputs": [],
   "source": []
  }
 ],
 "metadata": {
  "kernelspec": {
   "display_name": "Python 3 (ipykernel)",
   "language": "python",
   "name": "python3"
  },
  "language_info": {
   "codemirror_mode": {
    "name": "ipython",
    "version": 3
   },
   "file_extension": ".py",
   "mimetype": "text/x-python",
   "name": "python",
   "nbconvert_exporter": "python",
   "pygments_lexer": "ipython3",
   "version": "3.10.13"
  }
 },
 "nbformat": 4,
 "nbformat_minor": 5
}
